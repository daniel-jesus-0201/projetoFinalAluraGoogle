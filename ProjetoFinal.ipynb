{
  "nbformat": 4,
  "nbformat_minor": 0,
  "metadata": {
    "colab": {
      "provenance": [],
      "authorship_tag": "ABX9TyNeJG8RxDjFZTI4K8cDbezZ",
      "include_colab_link": true
    },
    "kernelspec": {
      "name": "python3",
      "display_name": "Python 3"
    },
    "language_info": {
      "name": "python"
    }
  },
  "cells": [
    {
      "cell_type": "markdown",
      "metadata": {
        "id": "view-in-github",
        "colab_type": "text"
      },
      "source": [
        "<a href=\"https://colab.research.google.com/github/daniel-jesus-0201/projetoFinalAluraGoogle/blob/main/ProjetoFinal.ipynb\" target=\"_parent\"><img src=\"https://colab.research.google.com/assets/colab-badge.svg\" alt=\"Open In Colab\"/></a>"
      ]
    },
    {
      "cell_type": "markdown",
      "source": [
        "Instala as bibliotecas"
      ],
      "metadata": {
        "id": "rRXjz_BjJUA9"
      }
    },
    {
      "cell_type": "code",
      "execution_count": 15,
      "metadata": {
        "id": "hW0f5e0qJOTp"
      },
      "outputs": [],
      "source": [
        "!pip install -q -U google-generativeai\n",
        "!pip install -q -U PyMuPDF"
      ]
    },
    {
      "cell_type": "code",
      "source": [
        "import google.generativeai as genai\n",
        "from google.colab import files\n",
        "from google.colab import userdata\n",
        "from PIL import Image\n",
        "import chardet\n",
        "from transformers import pipeline\n",
        "import fitz\n",
        "from IPython.display import clear_output"
      ],
      "metadata": {
        "id": "DGY7yNxzKP1I"
      },
      "execution_count": 16,
      "outputs": []
    },
    {
      "cell_type": "code",
      "source": [
        "GOOGLE_API_KEY = userdata.get('SECRET_KEY')\n",
        "genai.configure(api_key=GOOGLE_API_KEY)\n",
        "\n",
        "model = genai.GenerativeModel(model_name=\"gemini-1.5-pro-latest\")\n",
        "chat = model.start_chat(history=[])"
      ],
      "metadata": {
        "id": "Le85m5IEKeWr"
      },
      "execution_count": 17,
      "outputs": []
    },
    {
      "cell_type": "markdown",
      "source": [
        "Lista de modelos disponíveis"
      ],
      "metadata": {
        "id": "IENZWzlZJ2pr"
      }
    },
    {
      "cell_type": "code",
      "source": [
        "for m in genai.list_models():\n",
        "  if 'generateContent' in m.supported_generation_methods:\n",
        "    print(m.name)"
      ],
      "metadata": {
        "colab": {
          "base_uri": "https://localhost:8080/",
          "height": 138
        },
        "id": "eo3SWxbxJxmP",
        "outputId": "89284c3d-7c1d-4a96-8584-c61a1f7913d2"
      },
      "execution_count": 18,
      "outputs": [
        {
          "output_type": "stream",
          "name": "stdout",
          "text": [
            "models/gemini-1.0-pro\n",
            "models/gemini-1.0-pro-001\n",
            "models/gemini-1.0-pro-latest\n",
            "models/gemini-1.0-pro-vision-latest\n",
            "models/gemini-1.5-pro-latest\n",
            "models/gemini-pro\n",
            "models/gemini-pro-vision\n"
          ]
        }
      ]
    },
    {
      "cell_type": "markdown",
      "source": [
        "Chatbot - interação com um chatbot"
      ],
      "metadata": {
        "id": "QkWwysLCJ6HK"
      }
    },
    {
      "cell_type": "code",
      "source": [
        "def chatBot():\n",
        "  prompt = input(\"Introduza o comando: \")\n",
        "\n",
        "  while prompt != \"fim\":\n",
        "    # Envia o prompt e recebe uma resposta\n",
        "    response = chat.send_message(prompt)\n",
        "    print(\"Resposta: \", response.text, \"\\n\")\n",
        "    print(\"Digite \"Fim\" para sair do chatbot\\n\")\n",
        "    # Recebe o prompt\n",
        "    prompt = input(\"Introduza o comando: \")"
      ],
      "metadata": {
        "id": "nSsNq8ElJ11T"
      },
      "execution_count": 19,
      "outputs": []
    },
    {
      "cell_type": "markdown",
      "source": [
        "Imagem - descreve a imagem escolhida"
      ],
      "metadata": {
        "id": "q4urqdC_J9I_"
      }
    },
    {
      "cell_type": "code",
      "source": [
        "# Função para enviar o prompt e a imagem para o chatbot\n",
        "def envia_prompt_imagem(prompt, caminho_imagem):\n",
        "    # Envia o prompt\n",
        "    chat.send_message(prompt)\n",
        "    # Lê a imagem com PIL\n",
        "    imagem = Image.open(caminho_imagem)\n",
        "    # Envia a imagem PIL para o chatbot\n",
        "    response = chat.send_message(imagem)\n",
        "    print(\"\\n\",response.text)"
      ],
      "metadata": {
        "id": "jfgSWtXMJ-kK"
      },
      "execution_count": 30,
      "outputs": []
    },
    {
      "cell_type": "markdown",
      "source": [
        "PDF - resume o PDF selecionado"
      ],
      "metadata": {
        "id": "CL9j1NlPJ-0O"
      }
    },
    {
      "cell_type": "code",
      "source": [
        "# Função para extrair texto do PDF\n",
        "def extrair_texto_pdf(caminho_pdf):\n",
        "    texto = \"\"\n",
        "    with fitz.open(caminho_pdf) as pdf:\n",
        "        for page_num in range(len(pdf)):\n",
        "            page = pdf.load_page(page_num)\n",
        "            texto += page.get_text()\n",
        "    return texto\n",
        "\n",
        "# Função para enviar resumo para o chatbot\n",
        "def enviar_resumo_para_chatbot(texto_pdf):\n",
        "    # Envia o prompt\n",
        "    chat.send_message(\"Resume o seguinte texto\")\n",
        "    # Envia o resumo para o chatbot\n",
        "    response = chat.send_message(texto_pdf)\n",
        "    print(\"\\nResposta:\", response.text)"
      ],
      "metadata": {
        "id": "bgt-AmZMJ_78"
      },
      "execution_count": 31,
      "outputs": []
    },
    {
      "cell_type": "markdown",
      "source": [
        "Loop do Programa"
      ],
      "metadata": {
        "id": "rKJu20jRKvLC"
      }
    },
    {
      "cell_type": "code",
      "source": [
        "print(\"Seja bem-vindo ao meu projeto final da imersão em inteligência artificial\")\n",
        "print(\"Este projeto tem o objetivo de utilizar o modelo gemini para vários fins:\")\n",
        "print(\" 1 - conversar com um chatbot, fazendo perguntas e obtendo respostas\")\n",
        "print(\" 2 - descrever uma imagem escolhida, com informações relevantes\")\n",
        "print(\" 3 - resumir um artigo ou relatório selecionado\\n\")\n",
        "\n",
        "while True:\n",
        "    print(\"\\nEscolha uma opção:\")\n",
        "    print(\" 1 - Conversar com o chatbot\")\n",
        "    print(\" 2 - Descrever uma imagem\")\n",
        "    print(\" 3 - Resumir um PDF\")\n",
        "    print(\" 4 - Sair\\n\")\n",
        "\n",
        "    escolha = input(\"Digite o número da opção desejada: \")\n",
        "\n",
        "    if escolha == '1':\n",
        "        # Limpa a tela\n",
        "        clear_output(wait=True)\n",
        "        print(\"Bem-vindo ao chatbot - Pergunte qualquer coisa\\n\")\n",
        "        # Chama a função\n",
        "        chatBot()\n",
        "    elif escolha == '2':\n",
        "        # Limpa a tela\n",
        "        clear_output(wait=True)\n",
        "        print(\"Escolha a imagem para descrever\\n\")\n",
        "        # Carrega a imagem para o ambiente do Google Colab\n",
        "        uploaded = files.upload()\n",
        "        caminho_imagem = list(uploaded.keys())[0]\n",
        "        # Envia o prompt e o caminho da imagem para o chatbot\n",
        "        envia_prompt_imagem(\"Descreve a imagem apenas dizendo: 'A imagem apresentada é: '\", caminho_imagem)\n",
        "    elif escolha == '3':\n",
        "        # Limpa a tela\n",
        "        clear_output(wait=True)\n",
        "        print(\"Selecione o PDF que deseja resumir\\n\")\n",
        "        # Carrega o PDF\n",
        "        uploaded = files.upload()\n",
        "        caminho_pdf = list(uploaded.keys())[0]\n",
        "        # Extrai texto do PDF\n",
        "        texto_pdf = extrair_texto_pdf(caminho_pdf)\n",
        "        # Envia resumo para o chatbot\n",
        "        enviar_resumo_para_chatbot(texto_pdf)\n",
        "    elif escolha == '4':\n",
        "        print(\"Saindo do programa...\")\n",
        "        break\n",
        "    else:\n",
        "        print(\"Opção inválida! Por favor, escolha uma opção válida.\")"
      ],
      "metadata": {
        "colab": {
          "base_uri": "https://localhost:8080/",
          "height": 316
        },
        "id": "u7bEuzRXKu30",
        "outputId": "658f3f95-7b0b-4173-afee-0276c65b6589"
      },
      "execution_count": 33,
      "outputs": [
        {
          "output_type": "stream",
          "name": "stdout",
          "text": [
            "Escolha a imagem para descrever\n",
            "\n"
          ]
        },
        {
          "output_type": "display_data",
          "data": {
            "text/plain": [
              "<IPython.core.display.HTML object>"
            ],
            "text/html": [
              "\n",
              "     <input type=\"file\" id=\"files-54db13bf-8ec0-4e4f-9e72-b0f038bf1d9b\" name=\"files[]\" multiple disabled\n",
              "        style=\"border:none\" />\n",
              "     <output id=\"result-54db13bf-8ec0-4e4f-9e72-b0f038bf1d9b\">\n",
              "      Upload widget is only available when the cell has been executed in the\n",
              "      current browser session. Please rerun this cell to enable.\n",
              "      </output>\n",
              "      <script>// Copyright 2017 Google LLC\n",
              "//\n",
              "// Licensed under the Apache License, Version 2.0 (the \"License\");\n",
              "// you may not use this file except in compliance with the License.\n",
              "// You may obtain a copy of the License at\n",
              "//\n",
              "//      http://www.apache.org/licenses/LICENSE-2.0\n",
              "//\n",
              "// Unless required by applicable law or agreed to in writing, software\n",
              "// distributed under the License is distributed on an \"AS IS\" BASIS,\n",
              "// WITHOUT WARRANTIES OR CONDITIONS OF ANY KIND, either express or implied.\n",
              "// See the License for the specific language governing permissions and\n",
              "// limitations under the License.\n",
              "\n",
              "/**\n",
              " * @fileoverview Helpers for google.colab Python module.\n",
              " */\n",
              "(function(scope) {\n",
              "function span(text, styleAttributes = {}) {\n",
              "  const element = document.createElement('span');\n",
              "  element.textContent = text;\n",
              "  for (const key of Object.keys(styleAttributes)) {\n",
              "    element.style[key] = styleAttributes[key];\n",
              "  }\n",
              "  return element;\n",
              "}\n",
              "\n",
              "// Max number of bytes which will be uploaded at a time.\n",
              "const MAX_PAYLOAD_SIZE = 100 * 1024;\n",
              "\n",
              "function _uploadFiles(inputId, outputId) {\n",
              "  const steps = uploadFilesStep(inputId, outputId);\n",
              "  const outputElement = document.getElementById(outputId);\n",
              "  // Cache steps on the outputElement to make it available for the next call\n",
              "  // to uploadFilesContinue from Python.\n",
              "  outputElement.steps = steps;\n",
              "\n",
              "  return _uploadFilesContinue(outputId);\n",
              "}\n",
              "\n",
              "// This is roughly an async generator (not supported in the browser yet),\n",
              "// where there are multiple asynchronous steps and the Python side is going\n",
              "// to poll for completion of each step.\n",
              "// This uses a Promise to block the python side on completion of each step,\n",
              "// then passes the result of the previous step as the input to the next step.\n",
              "function _uploadFilesContinue(outputId) {\n",
              "  const outputElement = document.getElementById(outputId);\n",
              "  const steps = outputElement.steps;\n",
              "\n",
              "  const next = steps.next(outputElement.lastPromiseValue);\n",
              "  return Promise.resolve(next.value.promise).then((value) => {\n",
              "    // Cache the last promise value to make it available to the next\n",
              "    // step of the generator.\n",
              "    outputElement.lastPromiseValue = value;\n",
              "    return next.value.response;\n",
              "  });\n",
              "}\n",
              "\n",
              "/**\n",
              " * Generator function which is called between each async step of the upload\n",
              " * process.\n",
              " * @param {string} inputId Element ID of the input file picker element.\n",
              " * @param {string} outputId Element ID of the output display.\n",
              " * @return {!Iterable<!Object>} Iterable of next steps.\n",
              " */\n",
              "function* uploadFilesStep(inputId, outputId) {\n",
              "  const inputElement = document.getElementById(inputId);\n",
              "  inputElement.disabled = false;\n",
              "\n",
              "  const outputElement = document.getElementById(outputId);\n",
              "  outputElement.innerHTML = '';\n",
              "\n",
              "  const pickedPromise = new Promise((resolve) => {\n",
              "    inputElement.addEventListener('change', (e) => {\n",
              "      resolve(e.target.files);\n",
              "    });\n",
              "  });\n",
              "\n",
              "  const cancel = document.createElement('button');\n",
              "  inputElement.parentElement.appendChild(cancel);\n",
              "  cancel.textContent = 'Cancel upload';\n",
              "  const cancelPromise = new Promise((resolve) => {\n",
              "    cancel.onclick = () => {\n",
              "      resolve(null);\n",
              "    };\n",
              "  });\n",
              "\n",
              "  // Wait for the user to pick the files.\n",
              "  const files = yield {\n",
              "    promise: Promise.race([pickedPromise, cancelPromise]),\n",
              "    response: {\n",
              "      action: 'starting',\n",
              "    }\n",
              "  };\n",
              "\n",
              "  cancel.remove();\n",
              "\n",
              "  // Disable the input element since further picks are not allowed.\n",
              "  inputElement.disabled = true;\n",
              "\n",
              "  if (!files) {\n",
              "    return {\n",
              "      response: {\n",
              "        action: 'complete',\n",
              "      }\n",
              "    };\n",
              "  }\n",
              "\n",
              "  for (const file of files) {\n",
              "    const li = document.createElement('li');\n",
              "    li.append(span(file.name, {fontWeight: 'bold'}));\n",
              "    li.append(span(\n",
              "        `(${file.type || 'n/a'}) - ${file.size} bytes, ` +\n",
              "        `last modified: ${\n",
              "            file.lastModifiedDate ? file.lastModifiedDate.toLocaleDateString() :\n",
              "                                    'n/a'} - `));\n",
              "    const percent = span('0% done');\n",
              "    li.appendChild(percent);\n",
              "\n",
              "    outputElement.appendChild(li);\n",
              "\n",
              "    const fileDataPromise = new Promise((resolve) => {\n",
              "      const reader = new FileReader();\n",
              "      reader.onload = (e) => {\n",
              "        resolve(e.target.result);\n",
              "      };\n",
              "      reader.readAsArrayBuffer(file);\n",
              "    });\n",
              "    // Wait for the data to be ready.\n",
              "    let fileData = yield {\n",
              "      promise: fileDataPromise,\n",
              "      response: {\n",
              "        action: 'continue',\n",
              "      }\n",
              "    };\n",
              "\n",
              "    // Use a chunked sending to avoid message size limits. See b/62115660.\n",
              "    let position = 0;\n",
              "    do {\n",
              "      const length = Math.min(fileData.byteLength - position, MAX_PAYLOAD_SIZE);\n",
              "      const chunk = new Uint8Array(fileData, position, length);\n",
              "      position += length;\n",
              "\n",
              "      const base64 = btoa(String.fromCharCode.apply(null, chunk));\n",
              "      yield {\n",
              "        response: {\n",
              "          action: 'append',\n",
              "          file: file.name,\n",
              "          data: base64,\n",
              "        },\n",
              "      };\n",
              "\n",
              "      let percentDone = fileData.byteLength === 0 ?\n",
              "          100 :\n",
              "          Math.round((position / fileData.byteLength) * 100);\n",
              "      percent.textContent = `${percentDone}% done`;\n",
              "\n",
              "    } while (position < fileData.byteLength);\n",
              "  }\n",
              "\n",
              "  // All done.\n",
              "  yield {\n",
              "    response: {\n",
              "      action: 'complete',\n",
              "    }\n",
              "  };\n",
              "}\n",
              "\n",
              "scope.google = scope.google || {};\n",
              "scope.google.colab = scope.google.colab || {};\n",
              "scope.google.colab._files = {\n",
              "  _uploadFiles,\n",
              "  _uploadFilesContinue,\n",
              "};\n",
              "})(self);\n",
              "</script> "
            ]
          },
          "metadata": {}
        },
        {
          "output_type": "stream",
          "name": "stdout",
          "text": [
            "Saving transferir (1).jpeg to transferir (1) (3).jpeg\n",
            "\n",
            " A imagem apresentada é:  um husky siberiano.\n",
            "\n",
            "\n",
            "Escolha uma opção:\n",
            " 1 - Conversar com o chatbot\n",
            " 2 - Descrever uma imagem\n",
            " 3 - Resumir um PDF\n",
            " 4 - Sair\n",
            "\n",
            "Digite o número da opção desejada: 4\n",
            "Saindo do programa...\n"
          ]
        }
      ]
    }
  ]
}